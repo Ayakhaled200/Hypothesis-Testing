{
  "nbformat": 4,
  "nbformat_minor": 0,
  "metadata": {
    "colab": {
      "provenance": [],
      "gpuType": "T4"
    },
    "kernelspec": {
      "name": "python3",
      "display_name": "Python 3"
    },
    "language_info": {
      "name": "python"
    },
    "accelerator": "GPU"
  },
  "cells": [
    {
      "cell_type": "code",
      "source": [
        "import pandas as pd\n",
        "import numpy as np"
      ],
      "metadata": {
        "id": "8uKjvtBdCKDi"
      },
      "execution_count": 33,
      "outputs": []
    },
    {
      "cell_type": "code",
      "source": [
        "Data_Path = input(\"enter your data path\")"
      ],
      "metadata": {
        "colab": {
          "base_uri": "https://localhost:8080/"
        },
        "id": "MXWbmoXxG1fN",
        "outputId": "06dd08c3-9feb-4b44-dd0a-d180c7d8c987"
      },
      "execution_count": 34,
      "outputs": [
        {
          "name": "stdout",
          "output_type": "stream",
          "text": [
            "enter your data path/content/benchmark_results.csv\n"
          ]
        }
      ]
    },
    {
      "cell_type": "code",
      "source": [
        "data = pd.read_csv(Data_Path)"
      ],
      "metadata": {
        "id": "b6vhetjBCTAl"
      },
      "execution_count": 35,
      "outputs": []
    },
    {
      "cell_type": "code",
      "source": [
        "data"
      ],
      "metadata": {
        "colab": {
          "base_uri": "https://localhost:8080/",
          "height": 530
        },
        "id": "3w-ayhT5DS3A",
        "outputId": "9f8805b0-423d-487c-f221-94cf538f1596"
      },
      "execution_count": 36,
      "outputs": [
        {
          "output_type": "execute_result",
          "data": {
            "text/plain": [
              "        engine                                     best_algorithm  \\\n",
              "0    Benchmark  HistGradientBoostingRegressor(l2_regularizatio...   \n",
              "1   MetaModel1  AdaBoostRegressor(estimator={'Type': 'Decision...   \n",
              "2   MetaModel2  Pipeline(steps=[('stackingestimator',\\n       ...   \n",
              "3    Benchmark  ExtraTreesRegressor(bootstrap=True, criterion=...   \n",
              "4   MetaModel1                RandomForestRegressor(max_depth=10)   \n",
              "..         ...                                                ...   \n",
              "88  MetaModel1  AdaBoostRegressor(estimator={'Type': 'Decision...   \n",
              "89  MetaModel2  Pipeline(steps=[('rbfsampler',\\n              ...   \n",
              "90   Benchmark  SGDRegressor(alpha=0.0006517033225329654, epsi...   \n",
              "91  MetaModel1  ElasticNet(alpha=0.009999996179576642, l1_rati...   \n",
              "92  MetaModel2  Pipeline(steps=[('selectpercentile',\\n        ...   \n",
              "\n",
              "       test_MAE  test_MAPE  time_budget  fitting_duration  training_duration  \\\n",
              "0      1.260865  61.037864           10          9.994470          10.408626   \n",
              "1      1.124078  54.416042           10          0.292736          14.280830   \n",
              "2      1.769981  85.683907           10         10.121055          10.217346   \n",
              "3      0.005913  20.377802           10          9.916750          12.026096   \n",
              "4      0.003278  11.298063           10          0.376253          25.149649   \n",
              "..          ...        ...          ...               ...                ...   \n",
              "88  2986.782518  66.311067           10          0.003147          12.102953   \n",
              "89  4021.792586  89.289848           10         10.133454          10.147934   \n",
              "90   105.879889  75.292331           10         10.046632          10.060279   \n",
              "91    32.170029  22.876455           10          0.000062          12.086330   \n",
              "92    38.074573  27.075239           10         10.008312          10.020043   \n",
              "\n",
              "    dataset_id  \n",
              "0            1  \n",
              "1            1  \n",
              "2            1  \n",
              "3            2  \n",
              "4            2  \n",
              "..         ...  \n",
              "88          30  \n",
              "89          30  \n",
              "90          31  \n",
              "91          31  \n",
              "92          31  \n",
              "\n",
              "[93 rows x 8 columns]"
            ],
            "text/html": [
              "\n",
              "  <div id=\"df-a6aaca0b-99e6-4eab-9a73-e15652d8ccfe\" class=\"colab-df-container\">\n",
              "    <div>\n",
              "<style scoped>\n",
              "    .dataframe tbody tr th:only-of-type {\n",
              "        vertical-align: middle;\n",
              "    }\n",
              "\n",
              "    .dataframe tbody tr th {\n",
              "        vertical-align: top;\n",
              "    }\n",
              "\n",
              "    .dataframe thead th {\n",
              "        text-align: right;\n",
              "    }\n",
              "</style>\n",
              "<table border=\"1\" class=\"dataframe\">\n",
              "  <thead>\n",
              "    <tr style=\"text-align: right;\">\n",
              "      <th></th>\n",
              "      <th>engine</th>\n",
              "      <th>best_algorithm</th>\n",
              "      <th>test_MAE</th>\n",
              "      <th>test_MAPE</th>\n",
              "      <th>time_budget</th>\n",
              "      <th>fitting_duration</th>\n",
              "      <th>training_duration</th>\n",
              "      <th>dataset_id</th>\n",
              "    </tr>\n",
              "  </thead>\n",
              "  <tbody>\n",
              "    <tr>\n",
              "      <th>0</th>\n",
              "      <td>Benchmark</td>\n",
              "      <td>HistGradientBoostingRegressor(l2_regularizatio...</td>\n",
              "      <td>1.260865</td>\n",
              "      <td>61.037864</td>\n",
              "      <td>10</td>\n",
              "      <td>9.994470</td>\n",
              "      <td>10.408626</td>\n",
              "      <td>1</td>\n",
              "    </tr>\n",
              "    <tr>\n",
              "      <th>1</th>\n",
              "      <td>MetaModel1</td>\n",
              "      <td>AdaBoostRegressor(estimator={'Type': 'Decision...</td>\n",
              "      <td>1.124078</td>\n",
              "      <td>54.416042</td>\n",
              "      <td>10</td>\n",
              "      <td>0.292736</td>\n",
              "      <td>14.280830</td>\n",
              "      <td>1</td>\n",
              "    </tr>\n",
              "    <tr>\n",
              "      <th>2</th>\n",
              "      <td>MetaModel2</td>\n",
              "      <td>Pipeline(steps=[('stackingestimator',\\n       ...</td>\n",
              "      <td>1.769981</td>\n",
              "      <td>85.683907</td>\n",
              "      <td>10</td>\n",
              "      <td>10.121055</td>\n",
              "      <td>10.217346</td>\n",
              "      <td>1</td>\n",
              "    </tr>\n",
              "    <tr>\n",
              "      <th>3</th>\n",
              "      <td>Benchmark</td>\n",
              "      <td>ExtraTreesRegressor(bootstrap=True, criterion=...</td>\n",
              "      <td>0.005913</td>\n",
              "      <td>20.377802</td>\n",
              "      <td>10</td>\n",
              "      <td>9.916750</td>\n",
              "      <td>12.026096</td>\n",
              "      <td>2</td>\n",
              "    </tr>\n",
              "    <tr>\n",
              "      <th>4</th>\n",
              "      <td>MetaModel1</td>\n",
              "      <td>RandomForestRegressor(max_depth=10)</td>\n",
              "      <td>0.003278</td>\n",
              "      <td>11.298063</td>\n",
              "      <td>10</td>\n",
              "      <td>0.376253</td>\n",
              "      <td>25.149649</td>\n",
              "      <td>2</td>\n",
              "    </tr>\n",
              "    <tr>\n",
              "      <th>...</th>\n",
              "      <td>...</td>\n",
              "      <td>...</td>\n",
              "      <td>...</td>\n",
              "      <td>...</td>\n",
              "      <td>...</td>\n",
              "      <td>...</td>\n",
              "      <td>...</td>\n",
              "      <td>...</td>\n",
              "    </tr>\n",
              "    <tr>\n",
              "      <th>88</th>\n",
              "      <td>MetaModel1</td>\n",
              "      <td>AdaBoostRegressor(estimator={'Type': 'Decision...</td>\n",
              "      <td>2986.782518</td>\n",
              "      <td>66.311067</td>\n",
              "      <td>10</td>\n",
              "      <td>0.003147</td>\n",
              "      <td>12.102953</td>\n",
              "      <td>30</td>\n",
              "    </tr>\n",
              "    <tr>\n",
              "      <th>89</th>\n",
              "      <td>MetaModel2</td>\n",
              "      <td>Pipeline(steps=[('rbfsampler',\\n              ...</td>\n",
              "      <td>4021.792586</td>\n",
              "      <td>89.289848</td>\n",
              "      <td>10</td>\n",
              "      <td>10.133454</td>\n",
              "      <td>10.147934</td>\n",
              "      <td>30</td>\n",
              "    </tr>\n",
              "    <tr>\n",
              "      <th>90</th>\n",
              "      <td>Benchmark</td>\n",
              "      <td>SGDRegressor(alpha=0.0006517033225329654, epsi...</td>\n",
              "      <td>105.879889</td>\n",
              "      <td>75.292331</td>\n",
              "      <td>10</td>\n",
              "      <td>10.046632</td>\n",
              "      <td>10.060279</td>\n",
              "      <td>31</td>\n",
              "    </tr>\n",
              "    <tr>\n",
              "      <th>91</th>\n",
              "      <td>MetaModel1</td>\n",
              "      <td>ElasticNet(alpha=0.009999996179576642, l1_rati...</td>\n",
              "      <td>32.170029</td>\n",
              "      <td>22.876455</td>\n",
              "      <td>10</td>\n",
              "      <td>0.000062</td>\n",
              "      <td>12.086330</td>\n",
              "      <td>31</td>\n",
              "    </tr>\n",
              "    <tr>\n",
              "      <th>92</th>\n",
              "      <td>MetaModel2</td>\n",
              "      <td>Pipeline(steps=[('selectpercentile',\\n        ...</td>\n",
              "      <td>38.074573</td>\n",
              "      <td>27.075239</td>\n",
              "      <td>10</td>\n",
              "      <td>10.008312</td>\n",
              "      <td>10.020043</td>\n",
              "      <td>31</td>\n",
              "    </tr>\n",
              "  </tbody>\n",
              "</table>\n",
              "<p>93 rows × 8 columns</p>\n",
              "</div>\n",
              "    <div class=\"colab-df-buttons\">\n",
              "\n",
              "  <div class=\"colab-df-container\">\n",
              "    <button class=\"colab-df-convert\" onclick=\"convertToInteractive('df-a6aaca0b-99e6-4eab-9a73-e15652d8ccfe')\"\n",
              "            title=\"Convert this dataframe to an interactive table.\"\n",
              "            style=\"display:none;\">\n",
              "\n",
              "  <svg xmlns=\"http://www.w3.org/2000/svg\" height=\"24px\" viewBox=\"0 -960 960 960\">\n",
              "    <path d=\"M120-120v-720h720v720H120Zm60-500h600v-160H180v160Zm220 220h160v-160H400v160Zm0 220h160v-160H400v160ZM180-400h160v-160H180v160Zm440 0h160v-160H620v160ZM180-180h160v-160H180v160Zm440 0h160v-160H620v160Z\"/>\n",
              "  </svg>\n",
              "    </button>\n",
              "\n",
              "  <style>\n",
              "    .colab-df-container {\n",
              "      display:flex;\n",
              "      gap: 12px;\n",
              "    }\n",
              "\n",
              "    .colab-df-convert {\n",
              "      background-color: #E8F0FE;\n",
              "      border: none;\n",
              "      border-radius: 50%;\n",
              "      cursor: pointer;\n",
              "      display: none;\n",
              "      fill: #1967D2;\n",
              "      height: 32px;\n",
              "      padding: 0 0 0 0;\n",
              "      width: 32px;\n",
              "    }\n",
              "\n",
              "    .colab-df-convert:hover {\n",
              "      background-color: #E2EBFA;\n",
              "      box-shadow: 0px 1px 2px rgba(60, 64, 67, 0.3), 0px 1px 3px 1px rgba(60, 64, 67, 0.15);\n",
              "      fill: #174EA6;\n",
              "    }\n",
              "\n",
              "    .colab-df-buttons div {\n",
              "      margin-bottom: 4px;\n",
              "    }\n",
              "\n",
              "    [theme=dark] .colab-df-convert {\n",
              "      background-color: #3B4455;\n",
              "      fill: #D2E3FC;\n",
              "    }\n",
              "\n",
              "    [theme=dark] .colab-df-convert:hover {\n",
              "      background-color: #434B5C;\n",
              "      box-shadow: 0px 1px 3px 1px rgba(0, 0, 0, 0.15);\n",
              "      filter: drop-shadow(0px 1px 2px rgba(0, 0, 0, 0.3));\n",
              "      fill: #FFFFFF;\n",
              "    }\n",
              "  </style>\n",
              "\n",
              "    <script>\n",
              "      const buttonEl =\n",
              "        document.querySelector('#df-a6aaca0b-99e6-4eab-9a73-e15652d8ccfe button.colab-df-convert');\n",
              "      buttonEl.style.display =\n",
              "        google.colab.kernel.accessAllowed ? 'block' : 'none';\n",
              "\n",
              "      async function convertToInteractive(key) {\n",
              "        const element = document.querySelector('#df-a6aaca0b-99e6-4eab-9a73-e15652d8ccfe');\n",
              "        const dataTable =\n",
              "          await google.colab.kernel.invokeFunction('convertToInteractive',\n",
              "                                                    [key], {});\n",
              "        if (!dataTable) return;\n",
              "\n",
              "        const docLinkHtml = 'Like what you see? Visit the ' +\n",
              "          '<a target=\"_blank\" href=https://colab.research.google.com/notebooks/data_table.ipynb>data table notebook</a>'\n",
              "          + ' to learn more about interactive tables.';\n",
              "        element.innerHTML = '';\n",
              "        dataTable['output_type'] = 'display_data';\n",
              "        await google.colab.output.renderOutput(dataTable, element);\n",
              "        const docLink = document.createElement('div');\n",
              "        docLink.innerHTML = docLinkHtml;\n",
              "        element.appendChild(docLink);\n",
              "      }\n",
              "    </script>\n",
              "  </div>\n",
              "\n",
              "\n",
              "<div id=\"df-7dcfec0e-98e9-47d8-a1dc-36c15501baa6\">\n",
              "  <button class=\"colab-df-quickchart\" onclick=\"quickchart('df-7dcfec0e-98e9-47d8-a1dc-36c15501baa6')\"\n",
              "            title=\"Suggest charts\"\n",
              "            style=\"display:none;\">\n",
              "\n",
              "<svg xmlns=\"http://www.w3.org/2000/svg\" height=\"24px\"viewBox=\"0 0 24 24\"\n",
              "     width=\"24px\">\n",
              "    <g>\n",
              "        <path d=\"M19 3H5c-1.1 0-2 .9-2 2v14c0 1.1.9 2 2 2h14c1.1 0 2-.9 2-2V5c0-1.1-.9-2-2-2zM9 17H7v-7h2v7zm4 0h-2V7h2v10zm4 0h-2v-4h2v4z\"/>\n",
              "    </g>\n",
              "</svg>\n",
              "  </button>\n",
              "\n",
              "<style>\n",
              "  .colab-df-quickchart {\n",
              "      --bg-color: #E8F0FE;\n",
              "      --fill-color: #1967D2;\n",
              "      --hover-bg-color: #E2EBFA;\n",
              "      --hover-fill-color: #174EA6;\n",
              "      --disabled-fill-color: #AAA;\n",
              "      --disabled-bg-color: #DDD;\n",
              "  }\n",
              "\n",
              "  [theme=dark] .colab-df-quickchart {\n",
              "      --bg-color: #3B4455;\n",
              "      --fill-color: #D2E3FC;\n",
              "      --hover-bg-color: #434B5C;\n",
              "      --hover-fill-color: #FFFFFF;\n",
              "      --disabled-bg-color: #3B4455;\n",
              "      --disabled-fill-color: #666;\n",
              "  }\n",
              "\n",
              "  .colab-df-quickchart {\n",
              "    background-color: var(--bg-color);\n",
              "    border: none;\n",
              "    border-radius: 50%;\n",
              "    cursor: pointer;\n",
              "    display: none;\n",
              "    fill: var(--fill-color);\n",
              "    height: 32px;\n",
              "    padding: 0;\n",
              "    width: 32px;\n",
              "  }\n",
              "\n",
              "  .colab-df-quickchart:hover {\n",
              "    background-color: var(--hover-bg-color);\n",
              "    box-shadow: 0 1px 2px rgba(60, 64, 67, 0.3), 0 1px 3px 1px rgba(60, 64, 67, 0.15);\n",
              "    fill: var(--button-hover-fill-color);\n",
              "  }\n",
              "\n",
              "  .colab-df-quickchart-complete:disabled,\n",
              "  .colab-df-quickchart-complete:disabled:hover {\n",
              "    background-color: var(--disabled-bg-color);\n",
              "    fill: var(--disabled-fill-color);\n",
              "    box-shadow: none;\n",
              "  }\n",
              "\n",
              "  .colab-df-spinner {\n",
              "    border: 2px solid var(--fill-color);\n",
              "    border-color: transparent;\n",
              "    border-bottom-color: var(--fill-color);\n",
              "    animation:\n",
              "      spin 1s steps(1) infinite;\n",
              "  }\n",
              "\n",
              "  @keyframes spin {\n",
              "    0% {\n",
              "      border-color: transparent;\n",
              "      border-bottom-color: var(--fill-color);\n",
              "      border-left-color: var(--fill-color);\n",
              "    }\n",
              "    20% {\n",
              "      border-color: transparent;\n",
              "      border-left-color: var(--fill-color);\n",
              "      border-top-color: var(--fill-color);\n",
              "    }\n",
              "    30% {\n",
              "      border-color: transparent;\n",
              "      border-left-color: var(--fill-color);\n",
              "      border-top-color: var(--fill-color);\n",
              "      border-right-color: var(--fill-color);\n",
              "    }\n",
              "    40% {\n",
              "      border-color: transparent;\n",
              "      border-right-color: var(--fill-color);\n",
              "      border-top-color: var(--fill-color);\n",
              "    }\n",
              "    60% {\n",
              "      border-color: transparent;\n",
              "      border-right-color: var(--fill-color);\n",
              "    }\n",
              "    80% {\n",
              "      border-color: transparent;\n",
              "      border-right-color: var(--fill-color);\n",
              "      border-bottom-color: var(--fill-color);\n",
              "    }\n",
              "    90% {\n",
              "      border-color: transparent;\n",
              "      border-bottom-color: var(--fill-color);\n",
              "    }\n",
              "  }\n",
              "</style>\n",
              "\n",
              "  <script>\n",
              "    async function quickchart(key) {\n",
              "      const quickchartButtonEl =\n",
              "        document.querySelector('#' + key + ' button');\n",
              "      quickchartButtonEl.disabled = true;  // To prevent multiple clicks.\n",
              "      quickchartButtonEl.classList.add('colab-df-spinner');\n",
              "      try {\n",
              "        const charts = await google.colab.kernel.invokeFunction(\n",
              "            'suggestCharts', [key], {});\n",
              "      } catch (error) {\n",
              "        console.error('Error during call to suggestCharts:', error);\n",
              "      }\n",
              "      quickchartButtonEl.classList.remove('colab-df-spinner');\n",
              "      quickchartButtonEl.classList.add('colab-df-quickchart-complete');\n",
              "    }\n",
              "    (() => {\n",
              "      let quickchartButtonEl =\n",
              "        document.querySelector('#df-7dcfec0e-98e9-47d8-a1dc-36c15501baa6 button');\n",
              "      quickchartButtonEl.style.display =\n",
              "        google.colab.kernel.accessAllowed ? 'block' : 'none';\n",
              "    })();\n",
              "  </script>\n",
              "</div>\n",
              "\n",
              "  <div id=\"id_244e96de-11f3-4a0c-ad98-95ac9ffb2aa7\">\n",
              "    <style>\n",
              "      .colab-df-generate {\n",
              "        background-color: #E8F0FE;\n",
              "        border: none;\n",
              "        border-radius: 50%;\n",
              "        cursor: pointer;\n",
              "        display: none;\n",
              "        fill: #1967D2;\n",
              "        height: 32px;\n",
              "        padding: 0 0 0 0;\n",
              "        width: 32px;\n",
              "      }\n",
              "\n",
              "      .colab-df-generate:hover {\n",
              "        background-color: #E2EBFA;\n",
              "        box-shadow: 0px 1px 2px rgba(60, 64, 67, 0.3), 0px 1px 3px 1px rgba(60, 64, 67, 0.15);\n",
              "        fill: #174EA6;\n",
              "      }\n",
              "\n",
              "      [theme=dark] .colab-df-generate {\n",
              "        background-color: #3B4455;\n",
              "        fill: #D2E3FC;\n",
              "      }\n",
              "\n",
              "      [theme=dark] .colab-df-generate:hover {\n",
              "        background-color: #434B5C;\n",
              "        box-shadow: 0px 1px 3px 1px rgba(0, 0, 0, 0.15);\n",
              "        filter: drop-shadow(0px 1px 2px rgba(0, 0, 0, 0.3));\n",
              "        fill: #FFFFFF;\n",
              "      }\n",
              "    </style>\n",
              "    <button class=\"colab-df-generate\" onclick=\"generateWithVariable('data')\"\n",
              "            title=\"Generate code using this dataframe.\"\n",
              "            style=\"display:none;\">\n",
              "\n",
              "  <svg xmlns=\"http://www.w3.org/2000/svg\" height=\"24px\"viewBox=\"0 0 24 24\"\n",
              "       width=\"24px\">\n",
              "    <path d=\"M7,19H8.4L18.45,9,17,7.55,7,17.6ZM5,21V16.75L18.45,3.32a2,2,0,0,1,2.83,0l1.4,1.43a1.91,1.91,0,0,1,.58,1.4,1.91,1.91,0,0,1-.58,1.4L9.25,21ZM18.45,9,17,7.55Zm-12,3A5.31,5.31,0,0,0,4.9,8.1,5.31,5.31,0,0,0,1,6.5,5.31,5.31,0,0,0,4.9,4.9,5.31,5.31,0,0,0,6.5,1,5.31,5.31,0,0,0,8.1,4.9,5.31,5.31,0,0,0,12,6.5,5.46,5.46,0,0,0,6.5,12Z\"/>\n",
              "  </svg>\n",
              "    </button>\n",
              "    <script>\n",
              "      (() => {\n",
              "      const buttonEl =\n",
              "        document.querySelector('#id_244e96de-11f3-4a0c-ad98-95ac9ffb2aa7 button.colab-df-generate');\n",
              "      buttonEl.style.display =\n",
              "        google.colab.kernel.accessAllowed ? 'block' : 'none';\n",
              "\n",
              "      buttonEl.onclick = () => {\n",
              "        google.colab.notebook.generateWithVariable('data');\n",
              "      }\n",
              "      })();\n",
              "    </script>\n",
              "  </div>\n",
              "\n",
              "    </div>\n",
              "  </div>\n"
            ],
            "application/vnd.google.colaboratory.intrinsic+json": {
              "type": "dataframe",
              "variable_name": "data",
              "summary": "{\n  \"name\": \"data\",\n  \"rows\": 93,\n  \"fields\": [\n    {\n      \"column\": \"engine\",\n      \"properties\": {\n        \"dtype\": \"category\",\n        \"num_unique_values\": 3,\n        \"samples\": [\n          \"Benchmark\",\n          \"MetaModel1\",\n          \"MetaModel2\"\n        ],\n        \"semantic_type\": \"\",\n        \"description\": \"\"\n      }\n    },\n    {\n      \"column\": \"best_algorithm\",\n      \"properties\": {\n        \"dtype\": \"string\",\n        \"num_unique_values\": 80,\n        \"samples\": [\n          \"ARDRegression(alpha_1=4.124442820298477e-05, alpha_2=1.161663644436331e-06,\\n              copy_X=False, lambda_1=1.5236144126449076e-09,\\n              lambda_2=0.00046882633285888015,\\n              threshold_lambda=86828.75337540788, tol=0.0010379122151177183)\",\n          \"HistGradientBoostingRegressor(l2_regularization=1.7962284970386197e-10,\\n                              learning_rate=0.05156555327055447, max_iter=512,\\n                              max_leaf_nodes=35, min_samples_leaf=12,\\n                              n_iter_no_change=0, random_state=22,\\n                              validation_fraction=None, warm_start=True)\",\n          \"Pipeline(steps=[('elasticnetcv',\\n                 ElasticNetCV(l1_ratio=0.8500000000000001, random_state=22,\\n                              tol=0.01))])\"\n        ],\n        \"semantic_type\": \"\",\n        \"description\": \"\"\n      }\n    },\n    {\n      \"column\": \"test_MAE\",\n      \"properties\": {\n        \"dtype\": \"number\",\n        \"std\": 7432.657738469197,\n        \"min\": 0.003278357,\n        \"max\": 43063.26559,\n        \"num_unique_values\": 90,\n        \"samples\": [\n          0.065550568,\n          0.024506477,\n          16910.81603\n        ],\n        \"semantic_type\": \"\",\n        \"description\": \"\"\n      }\n    },\n    {\n      \"column\": \"test_MAPE\",\n      \"properties\": {\n        \"dtype\": \"number\",\n        \"std\": 25.42277217975367,\n        \"min\": 6.072290337,\n        \"max\": 96.67514139,\n        \"num_unique_values\": 90,\n        \"samples\": [\n          34.8805908,\n          63.7843571,\n          69.54761761\n        ],\n        \"semantic_type\": \"\",\n        \"description\": \"\"\n      }\n    },\n    {\n      \"column\": \"time_budget\",\n      \"properties\": {\n        \"dtype\": \"number\",\n        \"std\": 0,\n        \"min\": 10,\n        \"max\": 10,\n        \"num_unique_values\": 1,\n        \"samples\": [\n          10\n        ],\n        \"semantic_type\": \"\",\n        \"description\": \"\"\n      }\n    },\n    {\n      \"column\": \"fitting_duration\",\n      \"properties\": {\n        \"dtype\": \"number\",\n        \"std\": 4.773818839638836,\n        \"min\": 4.37e-05,\n        \"max\": 11.05316116,\n        \"num_unique_values\": 93,\n        \"samples\": [\n          8.5e-05\n        ],\n        \"semantic_type\": \"\",\n        \"description\": \"\"\n      }\n    },\n    {\n      \"column\": \"training_duration\",\n      \"properties\": {\n        \"dtype\": \"number\",\n        \"std\": 3.4477448498225773,\n        \"min\": 9.937676342,\n        \"max\": 33.02997475,\n        \"num_unique_values\": 93,\n        \"samples\": [\n          12.09443085\n        ],\n        \"semantic_type\": \"\",\n        \"description\": \"\"\n      }\n    },\n    {\n      \"column\": \"dataset_id\",\n      \"properties\": {\n        \"dtype\": \"number\",\n        \"std\": 8,\n        \"min\": 1,\n        \"max\": 31,\n        \"num_unique_values\": 31,\n        \"samples\": [\n          28\n        ],\n        \"semantic_type\": \"\",\n        \"description\": \"\"\n      }\n    }\n  ]\n}"
            }
          },
          "metadata": {},
          "execution_count": 36
        }
      ]
    },
    {
      "cell_type": "markdown",
      "source": [
        "## Determine wether the data is parametric or not:\n",
        "\n"
      ],
      "metadata": {
        "id": "_YRiKxMVnAfT"
      }
    },
    {
      "cell_type": "markdown",
      "source": [
        "### Shapiro-Wilk Test and Visual Normality Check for MAE and MAPE:\n",
        "- most of the data is not normaly distrbuted except MetaModel1 MAPE, it would be more appropriate to use non-parametric tests for analysis.\n",
        "- while (p-value > 0.05) → The data is normally distributed.\n",
        "\n"
      ],
      "metadata": {
        "id": "t4d2pkMmnXbr"
      }
    },
    {
      "cell_type": "code",
      "source": [
        "import matplotlib.pyplot as plt\n",
        "import scipy.stats as stats\n",
        "\n",
        "# Pivot the data for MAE and MAPE values\n",
        "pivoted_mae_data = data.pivot(index='dataset_id', columns='engine', values='test_MAE')\n",
        "pivoted_mape_data = data.pivot(index='dataset_id', columns='engine', values='test_MAPE')\n",
        "\n",
        "# Step 1: Visual check for normality using histograms and Q-Q plots for both MAE and MAPE\n",
        "\n",
        "fig, axes = plt.subplots(4, 3, figsize=(12, 16))  # Creating a grid for 6 plots (3 for MAE, 3 for MAPE)\n",
        "\n",
        "# MAE Plots\n",
        "# Plot histogram and Q-Q plot for Benchmark MAE\n",
        "axes[0, 0].hist(pivoted_mae_data['Benchmark'], bins=10, alpha=0.7, color='blue')\n",
        "axes[0, 0].set_title('Benchmark MAE Histogram')\n",
        "stats.probplot(pivoted_mae_data['Benchmark'], dist=\"norm\", plot=axes[1, 0])\n",
        "axes[1, 0].set_title('Benchmark MAE Q-Q Plot')\n",
        "\n",
        "# Plot histogram and Q-Q plot for MetaModel1 MAE\n",
        "axes[0, 1].hist(pivoted_mae_data['MetaModel1'], bins=10, alpha=0.7, color='green')\n",
        "axes[0, 1].set_title('MetaModel1 MAE Histogram')\n",
        "stats.probplot(pivoted_mae_data['MetaModel1'], dist=\"norm\", plot=axes[1, 1])\n",
        "axes[1, 1].set_title('MetaModel1 MAE Q-Q Plot')\n",
        "\n",
        "# Plot histogram and Q-Q plot for MetaModel2 MAE\n",
        "axes[0, 2].hist(pivoted_mae_data['MetaModel2'], bins=10, alpha=0.7, color='red')\n",
        "axes[0, 2].set_title('MetaModel2 MAE Histogram')\n",
        "stats.probplot(pivoted_mae_data['MetaModel2'], dist=\"norm\", plot=axes[1, 2])\n",
        "axes[1, 2].set_title('MetaModel2 MAE Q-Q Plot')\n",
        "\n",
        "# MAPE Plots\n",
        "# Plot histogram and Q-Q plot for Benchmark MAPE\n",
        "axes[2, 0].hist(pivoted_mape_data['Benchmark'], bins=10, alpha=0.7, color='blue')\n",
        "axes[2, 0].set_title('Benchmark MAPE Histogram')\n",
        "stats.probplot(pivoted_mape_data['Benchmark'], dist=\"norm\", plot=axes[3, 0])\n",
        "axes[3, 0].set_title('Benchmark MAPE Q-Q Plot')\n",
        "\n",
        "# Plot histogram and Q-Q plot for MetaModel1 MAPE\n",
        "axes[2, 1].hist(pivoted_mape_data['MetaModel1'], bins=10, alpha=0.7, color='green')\n",
        "axes[2, 1].set_title('MetaModel1 MAPE Histogram')\n",
        "stats.probplot(pivoted_mape_data['MetaModel1'], dist=\"norm\", plot=axes[3, 1])\n",
        "axes[3, 1].set_title('MetaModel1 MAPE Q-Q Plot')\n",
        "\n",
        "# Plot histogram and Q-Q plot for MetaModel2 MAPE\n",
        "axes[2, 2].hist(pivoted_mape_data['MetaModel2'], bins=10, alpha=0.7, color='red')\n",
        "axes[2, 2].set_title('MetaModel2 MAPE Histogram')\n",
        "stats.probplot(pivoted_mape_data['MetaModel2'], dist=\"norm\", plot=axes[3, 2])\n",
        "axes[3, 2].set_title('MetaModel2 MAPE Q-Q Plot')\n",
        "\n",
        "plt.tight_layout()\n",
        "plt.show()\n",
        "\n",
        "# Step 2: Shapiro-Wilk test for normality for each model's MAE and MAPE\n",
        "shapiro_benchmark_mae = stats.shapiro(pivoted_mae_data['Benchmark'])\n",
        "shapiro_metamodel1_mae = stats.shapiro(pivoted_mae_data['MetaModel1'])\n",
        "shapiro_metamodel2_mae = stats.shapiro(pivoted_mae_data['MetaModel2'])\n",
        "\n",
        "shapiro_benchmark_mape = stats.shapiro(pivoted_mape_data['Benchmark'])\n",
        "shapiro_metamodel1_mape = stats.shapiro(pivoted_mape_data['MetaModel1'])\n",
        "shapiro_metamodel2_mape = stats.shapiro(pivoted_mape_data['MetaModel2'])\n",
        "\n",
        "print(f'''\n",
        "    Shapiro-Wilk Benchmark MAE: {shapiro_benchmark_mae}\n",
        "    Shapiro-Wilk Benchmark MAPE: {shapiro_benchmark_mape}\n",
        "\n",
        "    Shapiro-Wilk MetaModel1 MAE: {shapiro_metamodel1_mae}\n",
        "    Shapiro-Wilk MetaModel1 MAPE: {shapiro_metamodel1_mape}\n",
        "\n",
        "    Shapiro-Wilk MetaModel2 MAE: {shapiro_metamodel2_mae}\n",
        "    Shapiro-Wilk MetaModel2 MAPE: {shapiro_metamodel2_mape}'''\n",
        ")\n"
      ],
      "metadata": {
        "colab": {
          "base_uri": "https://localhost:8080/",
          "height": 1000
        },
        "id": "Ox6DZ7oxnG_o",
        "outputId": "bc7ac096-8a55-4033-f938-3eaa1bca5369"
      },
      "execution_count": 37,
      "outputs": [
        {
          "output_type": "display_data",
          "data": {
            "text/plain": [
              "<Figure size 1200x1600 with 12 Axes>"
            ],
            "image/png": "[encoded data removed]"
          },
          "metadata": {}
        },
        {
          "output_type": "stream",
          "name": "stdout",
          "text": [
            "\n",
            "    Shapiro-Wilk Benchmark MAE: ShapiroResult(statistic=0.33384058980439413, pvalue=9.099016943054346e-11)\n",
            "    Shapiro-Wilk Benchmark MAPE: ShapiroResult(statistic=0.9264893323415805, pvalue=0.0352168791627427)\n",
            "\n",
            "    Shapiro-Wilk MetaModel1 MAE: ShapiroResult(statistic=0.3874851867784701, pvalue=2.7897112446532913e-10)\n",
            "    Shapiro-Wilk MetaModel1 MAPE: ShapiroResult(statistic=0.9658750436773317, pvalue=0.4132795012219312)\n",
            "\n",
            "    Shapiro-Wilk MetaModel2 MAE: ShapiroResult(statistic=0.387987831853677, pvalue=2.820029759526276e-10)\n",
            "    Shapiro-Wilk MetaModel2 MAPE: ShapiroResult(statistic=0.7674969477753493, pvalue=1.3651417642626288e-05)\n"
          ]
        }
      ]
    },
    {
      "cell_type": "markdown",
      "source": [
        "## 1. Run two statistical test that consider the three models together\n"
      ],
      "metadata": {
        "id": "WbMBhBkpD6nC"
      }
    },
    {
      "cell_type": "markdown",
      "source": [
        "\n",
        "### 1. Ordering data without magnitude of difference.\n"
      ],
      "metadata": {
        "id": "1LZ2J-lIO1Bb"
      }
    },
    {
      "cell_type": "markdown",
      "source": [
        "- Since the p-value < alpha (0.05), we can reject the null hypothesis that all three models perform similarly in rankings across the datasets."
      ],
      "metadata": {
        "id": "tkXdo3eRHYk8"
      }
    },
    {
      "cell_type": "markdown",
      "source": [
        "#### Friedman Test"
      ],
      "metadata": {
        "id": "gKhtoe3xRBYa"
      }
    },
    {
      "cell_type": "code",
      "execution_count": 38,
      "metadata": {
        "colab": {
          "base_uri": "https://localhost:8080/"
        },
        "id": "_fbNVGImB2H2",
        "outputId": "64310616-5dbc-4a0b-cde3-6eb9f4ab9b91"
      },
      "outputs": [
        {
          "output_type": "stream",
          "name": "stdout",
          "text": [
            "Friedman Test for MAE across all datasets: FriedmanchisquareResult(statistic=11.0322580645161, pvalue=0.0040213845016132885)\n",
            "Friedman Test for MAPE across all datasets: FriedmanchisquareResult(statistic=11.0322580645161, pvalue=0.0040213845016132885)\n"
          ]
        }
      ],
      "source": [
        "from scipy.stats import friedmanchisquare\n",
        "\n",
        "# Pivot the data to get the MAE values for each model across all datasets\n",
        "pivoted_mae_data = data.pivot(index='dataset_id', columns='engine', values='test_MAE')\n",
        "\n",
        "# Perform the Friedman test for MAE across all datasets\n",
        "friedman_test_mae = friedmanchisquare(pivoted_mae_data['Benchmark'], pivoted_mae_data['MetaModel1'], pivoted_mae_data['MetaModel2'])\n",
        "\n",
        "# Pivot the data to get the MAPE values for each model across all datasets\n",
        "pivoted_mape_data = data.pivot(index='dataset_id', columns='engine', values='test_MAPE')\n",
        "\n",
        "# Perform the Friedman test for MAPE across all datasets\n",
        "friedman_test_mape = friedmanchisquare(pivoted_mape_data['Benchmark'], pivoted_mape_data['MetaModel1'], pivoted_mape_data['MetaModel2'])\n",
        "\n",
        "print(\"Friedman Test for MAE across all datasets:\", friedman_test_mae)\n",
        "print(\"Friedman Test for MAPE across all datasets:\", friedman_test_mape)\n"
      ]
    },
    {
      "cell_type": "markdown",
      "source": [
        "### 2. Magnitude of error difference.\n"
      ],
      "metadata": {
        "id": "p3oFrTsGO7x3"
      }
    },
    {
      "cell_type": "markdown",
      "source": [
        "#### Repeated Measures ANOVA"
      ],
      "metadata": {
        "id": "I9JKDEeJQzv_"
      }
    },
    {
      "cell_type": "code",
      "source": [
        "import statsmodels.api as sm\n",
        "from statsmodels.formula.api import ols\n",
        "from statsmodels.stats.anova import AnovaRM\n",
        "\n",
        "# Pivot the data for MAE values for the three models across all datasets\n",
        "pivoted_mae_data = data.pivot(index='dataset_id', columns='engine', values='test_MAE')\n",
        "\n",
        "# Prepare the data for Repeated Measures ANOVA for MAE\n",
        "pivoted_mae_data = pivoted_mae_data.reset_index()\n",
        "\n",
        "# Melt the dataframe to long format for ANOVA\n",
        "mae_long_data = pd.melt(pivoted_mae_data, id_vars=['dataset_id'], value_vars=['Benchmark', 'MetaModel1', 'MetaModel2'],\n",
        "                        var_name='model', value_name='MAE')\n",
        "\n",
        "# Fit the Repeated Measures ANOVA model for MAE\n",
        "mae_model = AnovaRM(mae_long_data, 'MAE', 'dataset_id', within=['model'])\n",
        "mae_anova_results = mae_model.fit()\n",
        "\n",
        "\n",
        "print(\"Repeated Measures ANOVA for MAE\")\n",
        "print(mae_anova_results)\n",
        "\n",
        "\n",
        "# Pivot the data for MAPE values for the three models across all datasets\n",
        "pivoted_mape_data = data.pivot(index='dataset_id', columns='engine', values='test_MAPE')\n",
        "\n",
        "# Prepare the data for Repeated Measures ANOVA for MAPE\n",
        "pivoted_mape_data = pivoted_mape_data.reset_index()\n",
        "\n",
        "# Melt the dataframe to long format for ANOVA\n",
        "mape_long_data = pd.melt(pivoted_mape_data, id_vars=['dataset_id'], value_vars=['Benchmark', 'MetaModel1', 'MetaModel2'],\n",
        "                         var_name='model', value_name='MAPE')\n",
        "\n",
        "mape_model = AnovaRM(mape_long_data, 'MAPE', 'dataset_id', within=['model'])\n",
        "mape_anova_results = mape_model.fit()\n",
        "\n",
        "print(\"\\nRepeated Measures ANOVA for MAPE\")\n",
        "print(mape_anova_results)\n"
      ],
      "metadata": {
        "colab": {
          "base_uri": "https://localhost:8080/"
        },
        "id": "g0dq-kt7CaXp",
        "outputId": "399fc45f-fb44-4e31-a3c4-270da40aea98"
      },
      "execution_count": 39,
      "outputs": [
        {
          "output_type": "stream",
          "name": "stdout",
          "text": [
            "Repeated Measures ANOVA for MAE\n",
            "               Anova\n",
            "===================================\n",
            "      F Value Num DF  Den DF Pr > F\n",
            "-----------------------------------\n",
            "model  0.2543 2.0000 60.0000 0.7763\n",
            "===================================\n",
            "\n",
            "\n",
            "Repeated Measures ANOVA for MAPE\n",
            "               Anova\n",
            "===================================\n",
            "      F Value Num DF  Den DF Pr > F\n",
            "-----------------------------------\n",
            "model  4.3002 2.0000 60.0000 0.0180\n",
            "===================================\n",
            "\n"
          ]
        }
      ]
    },
    {
      "cell_type": "markdown",
      "source": [
        "#### Permutation Test"
      ],
      "metadata": {
        "id": "4xm1-aWraI8n"
      }
    },
    {
      "cell_type": "code",
      "source": [
        "from sklearn.utils import resample\n",
        "\n",
        "# Pivot the data for MAE and MAPE values for the three models across all datasets\n",
        "pivoted_mae_data = data.pivot(index='dataset_id', columns='engine', values='test_MAE')\n",
        "pivoted_mape_data = data.pivot(index='dataset_id', columns='engine', values='test_MAPE')\n",
        "\n",
        "# Function to compute the mean absolute error difference across models\n",
        "def compute_mae_diff(mae_data):\n",
        "    mae_benchmark = mae_data['Benchmark']\n",
        "    mae_metamodel1 = mae_data['MetaModel1']\n",
        "    mae_metamodel2 = mae_data['MetaModel2']\n",
        "\n",
        "    # Compute overall MAE difference (sum of differences between models)\n",
        "    mae_diff = np.abs(mae_benchmark - mae_metamodel1).sum() + np.abs(mae_benchmark - mae_metamodel2).sum() + np.abs(mae_metamodel1 - mae_metamodel2).sum()\n",
        "    return mae_diff\n",
        "\n",
        "# Observed MAE difference (actual data)\n",
        "observed_mae_diff = compute_mae_diff(pivoted_mae_data)\n",
        "\n",
        "# Permutation test: shuffling the labels and calculating MAE difference\n",
        "num_permutations = 10000\n",
        "permuted_diffs = np.zeros(num_permutations)\n",
        "\n",
        "for i in range(num_permutations):\n",
        "    # Shuffle the data for permutation\n",
        "    permuted_mae_data = pivoted_mae_data.apply(np.random.permutation)\n",
        "\n",
        "    # Compute MAE difference for the permuted data\n",
        "    permuted_diffs[i] = compute_mae_diff(permuted_mae_data)\n",
        "\n",
        "# Calculate the p-value: how many permuted differences are greater than or equal to the observed difference\n",
        "p_value_mae = np.mean(permuted_diffs >= observed_mae_diff)\n",
        "\n",
        "\n",
        "print(f\"Observed MAE difference: {observed_mae_diff}\")\n",
        "print(f\"Permutation test p-value for MAE: {p_value_mae}\")\n",
        "\n",
        "# Function to compute the mean absolute percentage error (MAPE) difference across models\n",
        "def compute_mape_diff(mape_data):\n",
        "    mape_benchmark = mape_data['Benchmark']\n",
        "    mape_metamodel1 = mape_data['MetaModel1']\n",
        "    mape_metamodel2 = mape_data['MetaModel2']\n",
        "\n",
        "    # Compute overall MAPE difference (sum of differences between models)\n",
        "    mape_diff = np.abs(mape_benchmark - mape_metamodel1).sum() + np.abs(mape_benchmark - mape_metamodel2).sum() + np.abs(mape_metamodel1 - mape_metamodel2).sum()\n",
        "    return mape_diff\n",
        "\n",
        "# Observed MAPE difference (actual data)\n",
        "observed_mape_diff = compute_mape_diff(pivoted_mape_data)\n",
        "\n",
        "# Permutation test for MAPE\n",
        "permuted_diffs_mape = np.zeros(num_permutations)\n",
        "\n",
        "for i in range(num_permutations):\n",
        "    # Shuffle the data for permutation\n",
        "    permuted_mape_data = pivoted_mape_data.apply(np.random.permutation)\n",
        "\n",
        "    # Compute MAPE difference for the permuted data\n",
        "    permuted_diffs_mape[i] = compute_mape_diff(permuted_mape_data)\n",
        "\n",
        "# Calculate the p-value: how many permuted differences are greater than or equal to the observed difference\n",
        "p_value_mape = np.mean(permuted_diffs_mape >= observed_mape_diff)\n",
        "\n",
        "\n",
        "print(f\"Observed MAPE difference: {observed_mape_diff}\")\n",
        "print(f\"Permutation test p-value for MAPE: {p_value_mape}\")\n"
      ],
      "metadata": {
        "colab": {
          "base_uri": "https://localhost:8080/"
        },
        "id": "mhes-w7BuBWN",
        "outputId": "55d65aeb-7ac7-4f58-cf08-5e5b8146af4b"
      },
      "execution_count": 40,
      "outputs": [
        {
          "output_type": "stream",
          "name": "stdout",
          "text": [
            "Observed MAE difference: 57759.24200696599\n",
            "Permutation test p-value for MAE: 1.0\n",
            "Observed MAPE difference: 2168.097651776\n",
            "Permutation test p-value for MAPE: 0.9993\n"
          ]
        }
      ]
    },
    {
      "cell_type": "markdown",
      "source": [
        "## 2. Run two statistical test that consider the three models together in pairs.\n"
      ],
      "metadata": {
        "id": "ii_RF7NER4VP"
      }
    },
    {
      "cell_type": "markdown",
      "source": [
        "### 1. Ordering data without magnitude of difference.\n"
      ],
      "metadata": {
        "id": "ptpZXsldR55E"
      }
    },
    {
      "cell_type": "markdown",
      "source": [
        "####  Friedman and Nemenyi Post-Hoc"
      ],
      "metadata": {
        "id": "Idi7ad3sDo2i"
      }
    },
    {
      "cell_type": "code",
      "source": [
        "!pip install scikit_posthocs"
      ],
      "metadata": {
        "colab": {
          "base_uri": "https://localhost:8080/"
        },
        "id": "MmBKxEGuSqyA",
        "outputId": "c3bd8c2b-3c27-4bac-bee5-77426450c53b"
      },
      "execution_count": 41,
      "outputs": [
        {
          "output_type": "stream",
          "name": "stdout",
          "text": [
            "Requirement already satisfied: scikit_posthocs in /usr/local/lib/python3.10/dist-packages (0.9.1)\n",
            "Requirement already satisfied: numpy in /usr/local/lib/python3.10/dist-packages (from scikit_posthocs) (1.26.4)\n",
            "Requirement already satisfied: scipy>=1.9.0 in /usr/local/lib/python3.10/dist-packages (from scikit_posthocs) (1.13.1)\n",
            "Requirement already satisfied: statsmodels in /usr/local/lib/python3.10/dist-packages (from scikit_posthocs) (0.14.4)\n",
            "Requirement already satisfied: pandas>=0.20.0 in /usr/local/lib/python3.10/dist-packages (from scikit_posthocs) (2.2.2)\n",
            "Requirement already satisfied: seaborn in /usr/local/lib/python3.10/dist-packages (from scikit_posthocs) (0.13.2)\n",
            "Requirement already satisfied: matplotlib in /usr/local/lib/python3.10/dist-packages (from scikit_posthocs) (3.7.1)\n",
            "Requirement already satisfied: python-dateutil>=2.8.2 in /usr/local/lib/python3.10/dist-packages (from pandas>=0.20.0->scikit_posthocs) (2.8.2)\n",
            "Requirement already satisfied: pytz>=2020.1 in /usr/local/lib/python3.10/dist-packages (from pandas>=0.20.0->scikit_posthocs) (2024.2)\n",
            "Requirement already satisfied: tzdata>=2022.7 in /usr/local/lib/python3.10/dist-packages (from pandas>=0.20.0->scikit_posthocs) (2024.2)\n",
            "Requirement already satisfied: contourpy>=1.0.1 in /usr/local/lib/python3.10/dist-packages (from matplotlib->scikit_posthocs) (1.3.0)\n",
            "Requirement already satisfied: cycler>=0.10 in /usr/local/lib/python3.10/dist-packages (from matplotlib->scikit_posthocs) (0.12.1)\n",
            "Requirement already satisfied: fonttools>=4.22.0 in /usr/local/lib/python3.10/dist-packages (from matplotlib->scikit_posthocs) (4.54.1)\n",
            "Requirement already satisfied: kiwisolver>=1.0.1 in /usr/local/lib/python3.10/dist-packages (from matplotlib->scikit_posthocs) (1.4.7)\n",
            "Requirement already satisfied: packaging>=20.0 in /usr/local/lib/python3.10/dist-packages (from matplotlib->scikit_posthocs) (24.1)\n",
            "Requirement already satisfied: pillow>=6.2.0 in /usr/local/lib/python3.10/dist-packages (from matplotlib->scikit_posthocs) (10.4.0)\n",
            "Requirement already satisfied: pyparsing>=2.3.1 in /usr/local/lib/python3.10/dist-packages (from matplotlib->scikit_posthocs) (3.2.0)\n",
            "Requirement already satisfied: patsy>=0.5.6 in /usr/local/lib/python3.10/dist-packages (from statsmodels->scikit_posthocs) (0.5.6)\n",
            "Requirement already satisfied: six in /usr/local/lib/python3.10/dist-packages (from patsy>=0.5.6->statsmodels->scikit_posthocs) (1.16.0)\n"
          ]
        }
      ]
    },
    {
      "cell_type": "code",
      "source": [
        "import scikit_posthocs as sp\n",
        "from scipy.stats import friedmanchisquare\n",
        "\n",
        "# Pivot the data for MAE values\n",
        "pivoted_mae_data = data.pivot(index='dataset_id', columns='engine', values='test_MAE')\n",
        "\n",
        "# Perform the Friedman test for MAE\n",
        "stat_mae, p_value_mae = friedmanchisquare(pivoted_mae_data['Benchmark'], pivoted_mae_data['MetaModel1'], pivoted_mae_data['MetaModel2'])\n",
        "print(f\"Friedman Test for MAE: statistic = {stat_mae}, p-value = {p_value_mae}\")\n",
        "\n",
        "# If p-value < 0.05, perform the Nemenyi post-hoc test for MAE\n",
        "if p_value_mae < 0.05:\n",
        "    nemenyi_results_mae = sp.posthoc_nemenyi_friedman(pivoted_mae_data.values)\n",
        "    print(\"\\nNemenyi Post-Hoc Test Results (MAE):\")\n",
        "    print(nemenyi_results_mae)\n",
        "\n",
        "# Pivot the data for MAPE values\n",
        "pivoted_mape_data = data.pivot(index='dataset_id', columns='engine', values='test_MAPE')\n",
        "\n",
        "# Perform the Friedman test for MAPE\n",
        "stat_mape, p_value_mape = friedmanchisquare(pivoted_mape_data['Benchmark'], pivoted_mape_data['MetaModel1'], pivoted_mape_data['MetaModel2'])\n",
        "print(f\"Friedman Test for MAPE: statistic = {stat_mape}, p-value = {p_value_mape}\")\n",
        "\n",
        "# If p-value < 0.05, perform the Nemenyi post-hoc test for MAPE\n",
        "if p_value_mape < 0.05:\n",
        "    nemenyi_results_mape = sp.posthoc_nemenyi_friedman(pivoted_mape_data.values)\n",
        "    print(\"\\nNemenyi Post-Hoc Test Results (MAPE):\")\n",
        "    print(nemenyi_results_mape)\n"
      ],
      "metadata": {
        "colab": {
          "base_uri": "https://localhost:8080/"
        },
        "id": "HhE4415jCW0N",
        "outputId": "c024b104-dc32-496a-903d-46f4c1fa05ce"
      },
      "execution_count": 42,
      "outputs": [
        {
          "output_type": "stream",
          "name": "stdout",
          "text": [
            "Friedman Test for MAE: statistic = 11.0322580645161, p-value = 0.0040213845016132885\n",
            "\n",
            "Nemenyi Post-Hoc Test Results (MAE):\n",
            "          0         1         2\n",
            "0  1.000000  0.020904  0.900000\n",
            "1  0.020904  1.000000  0.006518\n",
            "2  0.900000  0.006518  1.000000\n",
            "Friedman Test for MAPE: statistic = 11.0322580645161, p-value = 0.0040213845016132885\n",
            "\n",
            "Nemenyi Post-Hoc Test Results (MAPE):\n",
            "          0         1         2\n",
            "0  1.000000  0.020904  0.900000\n",
            "1  0.020904  1.000000  0.006518\n",
            "2  0.900000  0.006518  1.000000\n"
          ]
        }
      ]
    },
    {
      "cell_type": "markdown",
      "source": [
        "#### Wilcoxon Signed-Rank Test (paired data)"
      ],
      "metadata": {
        "id": "MI4kifhqaXb9"
      }
    },
    {
      "cell_type": "code",
      "source": [
        "from scipy.stats import wilcoxon\n",
        "\n",
        "# Pivot the data for MAE values for the three models across all datasets\n",
        "pivoted_mae_data = data.pivot(index='dataset_id', columns='engine', values='test_MAE')\n",
        "\n",
        "# Extract MAE values for each model across all datasets\n",
        "benchmark_mae = pivoted_mae_data['Benchmark']\n",
        "metamodel1_mae = pivoted_mae_data['MetaModel1']\n",
        "metamodel2_mae = pivoted_mae_data['MetaModel2']\n",
        "\n",
        "# Perform pairwise Wilcoxon Signed-Rank tests for MAE (ranking-based comparison)\n",
        "wilcoxon_test_mae_1 = wilcoxon(benchmark_mae, metamodel1_mae, alternative='two-sided')\n",
        "wilcoxon_test_mae_2 = wilcoxon(benchmark_mae, metamodel2_mae, alternative='two-sided')\n",
        "wilcoxon_test_mae_3 = wilcoxon(metamodel1_mae, metamodel2_mae, alternative='two-sided')\n",
        "\n",
        "# Pivot the data for MAPE values for the three models across all datasets\n",
        "pivoted_mape_data = data.pivot(index='dataset_id', columns='engine', values='test_MAPE')\n",
        "\n",
        "# Extract MAPE values for each model across all datasets\n",
        "benchmark_mape = pivoted_mape_data['Benchmark']\n",
        "metamodel1_mape = pivoted_mape_data['MetaModel1']\n",
        "metamodel2_mape = pivoted_mape_data['MetaModel2']\n",
        "\n",
        "# Perform pairwise Wilcoxon Signed-Rank tests for MAPE (ranking-based comparison)\n",
        "wilcoxon_test_mape_1 = wilcoxon(benchmark_mape, metamodel1_mape, alternative='two-sided')\n",
        "wilcoxon_test_mape_2 = wilcoxon(benchmark_mape, metamodel2_mape, alternative='two-sided')\n",
        "wilcoxon_test_mape_3 = wilcoxon(metamodel1_mape, metamodel2_mape, alternative='two-sided')\n",
        "\n",
        "print(f'''\n",
        "    Wilcoxon MetaModel1 vs Benchmark (MAE): {wilcoxon_test_mae_1}\n",
        "    Wilcoxon MetaModel1 vs Benchmark (MAPE): {wilcoxon_test_mape_1}\n",
        "\n",
        "    Wilcoxon MetaModel2 vs Benchmark (MAE): {wilcoxon_test_mae_2}\n",
        "    Wilcoxon MetaModel2 vs Benchmark (MAPE): {wilcoxon_test_mape_2}\n",
        "\n",
        "    Wilcoxon MetaModel1 vs MetaModel2 (MAE): {wilcoxon_test_mae_3}\n",
        "    Wilcoxon MetaModel1 vs MetaModel2 (MAPE): {wilcoxon_test_mape_3}'''\n",
        ")\n"
      ],
      "metadata": {
        "colab": {
          "base_uri": "https://localhost:8080/"
        },
        "id": "O9KdpQHYRP5A",
        "outputId": "8c542c1c-46d5-4fec-d9e9-a3c16f900561"
      },
      "execution_count": 43,
      "outputs": [
        {
          "output_type": "stream",
          "name": "stdout",
          "text": [
            "\n",
            "    Wilcoxon MetaModel1 vs Benchmark (MAE): WilcoxonResult(statistic=120.0, pvalue=0.011014155112206936)\n",
            "    Wilcoxon MetaModel1 vs Benchmark (MAPE): WilcoxonResult(statistic=99.0, pvalue=0.0026963530108332634)\n",
            "\n",
            "    Wilcoxon MetaModel2 vs Benchmark (MAE): WilcoxonResult(statistic=212.0, pvalue=0.49194561038166285)\n",
            "    Wilcoxon MetaModel2 vs Benchmark (MAPE): WilcoxonResult(statistic=241.0, pvalue=0.9000833509489894)\n",
            "\n",
            "    Wilcoxon MetaModel1 vs MetaModel2 (MAE): WilcoxonResult(statistic=103.0, pvalue=0.0035971812903881073)\n",
            "    Wilcoxon MetaModel1 vs MetaModel2 (MAPE): WilcoxonResult(statistic=110.0, pvalue=0.005818215198814869)\n"
          ]
        }
      ]
    },
    {
      "cell_type": "markdown",
      "source": [
        "### 2- Magnitude of error difference\n"
      ],
      "metadata": {
        "id": "UH7I9YIacSiO"
      }
    },
    {
      "cell_type": "markdown",
      "source": [
        "#### Bootstrap Test"
      ],
      "metadata": {
        "id": "7O6QsjKEcXio"
      }
    },
    {
      "cell_type": "code",
      "source": [
        "# Define a function to perform bootstrap resampling and compute mean differences\n",
        "def bootstrap_test(model1_errors, model2_errors, num_bootstrap=10000, alpha=0.05):\n",
        "    differences = model1_errors - model2_errors\n",
        "    observed_diff = np.mean(differences)\n",
        "\n",
        "    # Bootstrap resampling\n",
        "    bootstrapped_means = []\n",
        "    for _ in range(num_bootstrap):\n",
        "        resampled_diff = np.random.choice(differences, size=len(differences), replace=True)\n",
        "        bootstrapped_means.append(np.mean(resampled_diff))\n",
        "\n",
        "    # Calculate the confidence interval\n",
        "    lower_bound = np.percentile(bootstrapped_means, alpha/2 * 100)\n",
        "    upper_bound = np.percentile(bootstrapped_means, (1 - alpha/2) * 100)\n",
        "\n",
        "    # Compute the p-value as the proportion of bootstrap samples that are more extreme than the observed difference\n",
        "    p_value = np.mean(np.abs(bootstrapped_means) >= np.abs(observed_diff))\n",
        "\n",
        "    return observed_diff, (lower_bound, upper_bound), p_value\n",
        "\n",
        "# Apply the bootstrap test to compare all pairs of models for MAE and MAPE\n",
        "\n",
        "# MAE Comparisons\n",
        "print(\"Bootstrap Test Results for MAE:\")\n",
        "observed_diff_1, confidence_interval_1, p_value_1 = bootstrap_test(benchmark_mae, metamodel1_mae)\n",
        "observed_diff_2, confidence_interval_2, p_value_2 = bootstrap_test(benchmark_mae, metamodel2_mae)\n",
        "observed_diff_3, confidence_interval_3, p_value_3 = bootstrap_test(metamodel1_mae, metamodel2_mae)\n",
        "\n",
        "print(f\"Benchmark vs MetaModel1: Observed Difference = {observed_diff_1}, 95% CI = {confidence_interval_1}, p-value = {p_value_1}\")\n",
        "print(f\"Benchmark vs MetaModel2: Observed Difference = {observed_diff_2}, 95% CI = {confidence_interval_2}, p-value = {p_value_2}\")\n",
        "print(f\"MetaModel1 vs MetaModel2: Observed Difference = {observed_diff_3}, 95% CI = {confidence_interval_3}, p-value = {p_value_3}\")\n",
        "\n",
        "# MAPE Comparisons\n",
        "print(\"\\nBootstrap Test Results for MAPE:\")\n",
        "observed_diff_1, confidence_interval_1, p_value_1 = bootstrap_test(benchmark_mape, metamodel1_mape)\n",
        "observed_diff_2, confidence_interval_2, p_value_2 = bootstrap_test(benchmark_mape, metamodel2_mape)\n",
        "observed_diff_3, confidence_interval_3, p_value_3 = bootstrap_test(metamodel1_mape, metamodel2_mape)\n",
        "\n",
        "print(f\"Benchmark vs MetaModel1: Observed Difference = {observed_diff_1}, 95% CI = {confidence_interval_1}, p-value = {p_value_1}\")\n",
        "print(f\"Benchmark vs MetaModel2: Observed Difference = {observed_diff_2}, 95% CI = {confidence_interval_2}, p-value = {p_value_2}\")\n",
        "print(f\"MetaModel1 vs MetaModel2: Observed Difference = {observed_diff_3}, 95% CI = {confidence_interval_3}, p-value = {p_value_3}\")\n",
        "\n"
      ],
      "metadata": {
        "colab": {
          "base_uri": "https://localhost:8080/"
        },
        "id": "KzEM8YguSQ5B",
        "outputId": "9f18e7a1-e80d-452c-d660-ca1db5dc7d42"
      },
      "execution_count": 44,
      "outputs": [
        {
          "output_type": "stream",
          "name": "stdout",
          "text": [
            "Bootstrap Test Results for MAE:\n",
            "Benchmark vs MetaModel1: Observed Difference = 232.31105844496773, 95% CI = (-784.681636223546, 1305.0480926736202), p-value = 0.6628\n",
            "Benchmark vs MetaModel2: Observed Difference = -18.424999834580504, 95% CI = (-831.9704031914289, 703.9942136114048), p-value = 0.9555\n",
            "MetaModel1 vs MetaModel2: Observed Difference = -250.73605827954827, 95% CI = (-620.9213046124231, -12.029384151679814), p-value = 0.4485\n",
            "\n",
            "Bootstrap Test Results for MAPE:\n",
            "Benchmark vs MetaModel1: Observed Difference = 13.839029815580643, 95% CI = (5.674543457204034, 21.97852035406693), p-value = 0.4889\n",
            "Benchmark vs MetaModel2: Observed Difference = 2.3524020450967744, 95% CI = (-9.45288001119032, 14.83435036187579), p-value = 0.728\n",
            "MetaModel1 vs MetaModel2: Observed Difference = -11.486627770483874, 95% CI = (-19.355146492465323, -3.0181199899056463), p-value = 0.5061\n"
          ]
        }
      ]
    },
    {
      "cell_type": "markdown",
      "source": [
        "####  Permutation Test  (pairwise)"
      ],
      "metadata": {
        "id": "gtZE3GYfUife"
      }
    },
    {
      "cell_type": "code",
      "source": [
        "import numpy as np\n",
        "from sklearn.utils import resample\n",
        "\n",
        "# Define a function to calculate the difference in MAE/MAPE between two models\n",
        "def calculate_difference(model1_errors, model2_errors):\n",
        "    return np.mean(model1_errors - model2_errors)\n",
        "\n",
        "# Define a function for performing a permutation test\n",
        "def permutation_test(model1_errors, model2_errors, num_permutations=10000):\n",
        "    observed_diff = calculate_difference(model1_errors, model2_errors)\n",
        "    combined = np.hstack([model1_errors, model2_errors])\n",
        "    count_greater_or_equal = 0\n",
        "\n",
        "    for _ in range(num_permutations):\n",
        "        # Shuffle the combined data and split it into two random groups\n",
        "        permuted = np.random.permutation(combined)\n",
        "        perm_model1 = permuted[:len(model1_errors)]\n",
        "        perm_model2 = permuted[len(model1_errors):]\n",
        "        permuted_diff = calculate_difference(perm_model1, perm_model2)\n",
        "\n",
        "        # Count how often the permuted difference is greater than or equal to the observed difference\n",
        "        if np.abs(permuted_diff) >= np.abs(observed_diff):\n",
        "            count_greater_or_equal += 1\n",
        "\n",
        "    # Calculate the p-value\n",
        "    p_value = count_greater_or_equal / num_permutations\n",
        "    return observed_diff, p_value\n",
        "\n",
        "\n",
        "\n",
        "# Pivot the data for MAE and MAPE values for the three models across all datasets\n",
        "pivoted_mae_data = data.pivot(index='dataset_id', columns='engine', values='test_MAE')\n",
        "pivoted_mape_data = data.pivot(index='dataset_id', columns='engine', values='test_MAPE')\n",
        "\n",
        "# Extract MAE and MAPE values for each model across all datasets\n",
        "benchmark_mae = pivoted_mae_data['Benchmark']\n",
        "metamodel1_mae = pivoted_mae_data['MetaModel1']\n",
        "metamodel2_mae = pivoted_mae_data['MetaModel2']\n",
        "\n",
        "benchmark_mape = pivoted_mape_data['Benchmark']\n",
        "metamodel1_mape = pivoted_mape_data['MetaModel1']\n",
        "metamodel2_mape = pivoted_mape_data['MetaModel2']\n",
        "\n",
        "# Apply the permutation test to compare each pair of models for MAE\n",
        "print(\"Permutation Test Results for MAE:\")\n",
        "observed_diff_1, p_value_1 = permutation_test(benchmark_mae, metamodel1_mae)\n",
        "observed_diff_2, p_value_2 = permutation_test(benchmark_mae, metamodel2_mae)\n",
        "observed_diff_3, p_value_3 = permutation_test(metamodel1_mae, metamodel2_mae)\n",
        "\n",
        "print(f\"Benchmark vs MetaModel1: Observed Difference = {observed_diff_1}, p-value = {p_value_1}\")\n",
        "print(f\"Benchmark vs MetaModel2: Observed Difference = {observed_diff_2}, p-value = {p_value_2}\")\n",
        "print(f\"MetaModel1 vs MetaModel2: Observed Difference = {observed_diff_3}, p-value = {p_value_3}\")\n",
        "\n",
        "# Apply the permutation test to compare each pair of models for MAPE\n",
        "print(\"\\nPermutation Test Results for MAPE:\")\n",
        "observed_diff_1, p_value_1 = permutation_test(benchmark_mape, metamodel1_mape)\n",
        "observed_diff_2, p_value_2 = permutation_test(benchmark_mape, metamodel2_mape)\n",
        "observed_diff_3, p_value_3 = permutation_test(metamodel1_mape, metamodel2_mape)\n",
        "\n",
        "print(f\"Benchmark vs MetaModel1: Observed Difference = {observed_diff_1}, p-value = {p_value_1}\")\n",
        "print(f\"Benchmark vs MetaModel2: Observed Difference = {observed_diff_2}, p-value = {p_value_2}\")\n",
        "print(f\"MetaModel1 vs MetaModel2: Observed Difference = {observed_diff_3}, p-value = {p_value_3}\")\n"
      ],
      "metadata": {
        "colab": {
          "base_uri": "https://localhost:8080/"
        },
        "id": "EPFukZo5SRVY",
        "outputId": "4c7199cc-3049-42f6-8e67-1bee21274ca1"
      },
      "execution_count": 45,
      "outputs": [
        {
          "output_type": "stream",
          "name": "stdout",
          "text": [
            "Permutation Test Results for MAE:\n",
            "Benchmark vs MetaModel1: Observed Difference = 232.31105844496773, p-value = 0.906\n",
            "Benchmark vs MetaModel2: Observed Difference = -18.424999834580504, p-value = 0.993\n",
            "MetaModel1 vs MetaModel2: Observed Difference = -250.73605827954827, p-value = 0.8406\n",
            "\n",
            "Permutation Test Results for MAPE:\n",
            "Benchmark vs MetaModel1: Observed Difference = 13.839029815580643, p-value = 0.0134\n",
            "Benchmark vs MetaModel2: Observed Difference = 2.3524020450967744, p-value = 0.7219\n",
            "MetaModel1 vs MetaModel2: Observed Difference = -11.486627770483874, p-value = 0.101\n"
          ]
        }
      ]
    }
  ]
}